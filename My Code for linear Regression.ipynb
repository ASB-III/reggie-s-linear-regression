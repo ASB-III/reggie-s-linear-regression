{
 "cells": [
  {
   "cell_type": "code",
   "execution_count": 2,
   "id": "c201e3e3-312a-439c-8b40-a046782f09fc",
   "metadata": {},
   "outputs": [
    {
     "name": "stdout",
     "output_type": "stream",
     "text": [
      "True\n",
      "True\n"
     ]
    }
   ],
   "source": [
    "#The line we will end up with will have a formula that looks like:\n",
    "#y = m*x + b\n",
    "#m is the slope of the line and b is the intercept, where the line crosses the y-axis.\n",
    "#Fill in the function called get_y() that takes in m, b, and x. It should return what the y value would be for that x on that line!\n",
    "def get_y(m, b, x):\n",
    "    y = m*x + b\n",
    "    return y\n",
    "\n",
    "print(get_y(1, 0, 7) == 7)\n",
    "print(get_y(5, 10, 3) == 25)"
   ]
  },
  {
   "cell_type": "code",
   "execution_count": 3,
   "id": "669faa3a-94d4-41ed-8fed-5e42cd7c2c2a",
   "metadata": {},
   "outputs": [],
   "source": [
    "#Write your calculate_error() function here\n",
    "def calculate_error(m, b, point):\n",
    "    #Get the x-value from the point and store it in a variable called `x_point`\n",
    "    #Get the y-value from the point and store it in a variable called `y_point`\n",
    "    x_point, y_point = point\n",
    "    #Use `get_y()` to get the y-value that `x_point` would be on the line\n",
    "    y = m*x_point + b\n",
    "    #Find the difference between the y from `get_y` and `y_point`\n",
    "    distance = abs(y - y_point)\n",
    "    #Return the absolute value of the distance (you can use the built-in function `abs()` to do this)\n",
    "    return distance"
   ]
  },
  {
   "cell_type": "code",
   "execution_count": 4,
   "id": "ecaffccb-b8a4-4700-9a89-58c5391df534",
   "metadata": {},
   "outputs": [
    {
     "name": "stdout",
     "output_type": "stream",
     "text": [
      "0\n",
      "1\n",
      "1\n",
      "5\n"
     ]
    }
   ],
   "source": [
    "#Let's test this function!\n",
    "#this is a line that looks like y = x, so (3, 3) should lie on it. thus, error should be 0:\n",
    "print(calculate_error(1, 0, (3, 3)))\n",
    "#the point (3, 4) should be 1 unit away from the line y = x:\n",
    "print(calculate_error(1, 0, (3, 4)))\n",
    "#the point (3, 3) should be 1 unit away from the line y = x - 1:\n",
    "print(calculate_error(1, -1, (3, 3)))\n",
    "#the point (3, 3) should be 5 units away from the line y = -x + 1:\n",
    "print(calculate_error(-1, 1, (3, 3)))"
   ]
  },
  {
   "cell_type": "code",
   "execution_count": 5,
   "id": "922a50b2-58d8-48ef-af24-58b4c3e4ea53",
   "metadata": {},
   "outputs": [],
   "source": [
    "#Reggie's datasets will be sets of points. For example, he ran an experiment comparing the width of bouncy balls to how high they bounce:\n",
    "datapoints = [(1, 2), (2, 0), (3, 4), (4, 4), (5, 3)]"
   ]
  },
  {
   "cell_type": "code",
   "execution_count": 6,
   "id": "8fd80ef6-2ae7-4a26-82db-b47d6d49bfb6",
   "metadata": {},
   "outputs": [],
   "source": [
    "#Write your calculate_all_error function here\n",
    "def calculate_all_error(m, b, points):\n",
    "    total_error = 0\n",
    "    for point in datapoints:\n",
    "        point_error = calculate_error(m, b, point)\n",
    "        total_error += point_error\n",
    "    return total_error"
   ]
  },
  {
   "cell_type": "code",
   "execution_count": 7,
   "id": "15714a42-73ca-431b-a43e-2b3616db7095",
   "metadata": {},
   "outputs": [
    {
     "name": "stdout",
     "output_type": "stream",
     "text": [
      "0\n",
      "4\n",
      "4\n",
      "18\n"
     ]
    }
   ],
   "source": [
    "#Let's test this function!\n",
    "#every point in this dataset lies upon y=x, so the total error should be zero:\n",
    "datapoints = [(1, 1), (3, 3), (5, 5), (-1, -1)]\n",
    "print(calculate_all_error(1, 0, datapoints))\n",
    "\n",
    "#every point in this dataset is 1 unit away from y = x + 1, so the total error should be 4:\n",
    "datapoints = [(1, 1), (3, 3), (5, 5), (-1, -1)]\n",
    "print(calculate_all_error(1, 1, datapoints))\n",
    "\n",
    "#every point in this dataset is 1 unit away from y = x - 1, so the total error should be 4:\n",
    "datapoints = [(1, 1), (3, 3), (5, 5), (-1, -1)]\n",
    "print(calculate_all_error(1, -1, datapoints))\n",
    "\n",
    "\n",
    "#the points in this dataset are 1, 5, 9, and 3 units away from y = -x + 1, respectively, so total error should be\n",
    "# 1 + 5 + 9 + 3 = 18\n",
    "datapoints = [(1, 1), (3, 3), (5, 5), (-1, -1)]\n",
    "print(calculate_all_error(-1, 1, datapoints))"
   ]
  },
  {
   "cell_type": "code",
   "execution_count": 8,
   "id": "647d4c46-885e-43cf-ac71-adb01b6be7df",
   "metadata": {},
   "outputs": [],
   "source": [
    "#your list comprehension here\n",
    "possible_ms = [m * 0.1 for m in range(-100, 101)]"
   ]
  },
  {
   "cell_type": "code",
   "execution_count": 9,
   "id": "f6a1effb-a801-4026-a070-693a7ee33a41",
   "metadata": {},
   "outputs": [],
   "source": [
    "#your list comprehension here\n",
    "possible_bs = [b * 0.1 for b in range(-200, 201)]"
   ]
  },
  {
   "cell_type": "code",
   "execution_count": 10,
   "id": "7ce4a45e-2d99-4ac6-b901-b25cb9aca37a",
   "metadata": {},
   "outputs": [
    {
     "name": "stdout",
     "output_type": "stream",
     "text": [
      "0.30000000000000004 1.7000000000000002 4.999999999999999\n"
     ]
    }
   ],
   "source": [
    "datapoints = [(1, 2), (2, 0), (3, 4), (4, 4), (5, 3)]\n",
    "#smallest_error — this should start at infinity (float(\"inf\")) so that any error we get at first will be smaller than our value of smallest_error\n",
    "smallest_error = float(\"inf\")\n",
    "#best_m — we can start this at 0\n",
    "best_m = 0\n",
    "#best_b — we can start this at 0\n",
    "best_b = 0\n",
    "\n",
    "\n",
    "#Iterate through each element m in possible_ms\n",
    "for m in possible_ms:\n",
    "    #For every m value, take every b value in possible_bs\n",
    "    for b in possible_bs:\n",
    "    #f the value returned from calculate_all_error on this m value, this b value, and datapoints is less than our current smallest_error\n",
    "        error = calculate_all_error(m, b, datapoints)\n",
    "        if error < smallest_error:\n",
    "    #Set best_m and best_b to be these values, and set smallest_error to this error.\n",
    "            best_m = m\n",
    "            best_b = b\n",
    "            smallest_error = error\n",
    "        \n",
    "#Print out best_m, best_b and smallest_error after the loops.\n",
    "print(best_m, best_b, smallest_error)"
   ]
  },
  {
   "cell_type": "code",
   "execution_count": 11,
   "id": "c2cf7e2c-bfae-42e5-bca0-c79d91a82bd8",
   "metadata": {},
   "outputs": [
    {
     "data": {
      "text/plain": [
       "3.5"
      ]
     },
     "execution_count": 11,
     "metadata": {},
     "output_type": "execute_result"
    }
   ],
   "source": [
    "#Using this m and this b, what does your line predict the bounce height of a ball with a width of 6 to be? In other words, what is the output of get_y()\n",
    "get_y(0.3, 1.7, 6)"
   ]
  }
 ],
 "metadata": {
  "kernelspec": {
   "display_name": "Python 3",
   "language": "python",
   "name": "python3"
  },
  "language_info": {
   "codemirror_mode": {
    "name": "ipython",
    "version": 3
   },
   "file_extension": ".py",
   "mimetype": "text/x-python",
   "name": "python",
   "nbconvert_exporter": "python",
   "pygments_lexer": "ipython3",
   "version": "3.8.8"
  }
 },
 "nbformat": 4,
 "nbformat_minor": 5
}
